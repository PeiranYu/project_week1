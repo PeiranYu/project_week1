{
 "cells": [
  {
   "cell_type": "markdown",
   "metadata": {},
   "source": [
    "# Plot URL"
   ]
  },
  {
   "cell_type": "markdown",
   "metadata": {},
   "source": [
    "Hour-day of week\n",
    "https://drive.google.com/open?id=0BwWQEnB3VT9wTk9xZFo3SU1ZNmc\n",
    "hour\n",
    "https://drive.google.com/file/d/0BwWQEnB3VT9wMVhXOEdlUGhyRmM/view?usp=sharing\n",
    "female headed household\n",
    "https://drive.google.com/file/d/0BwWQEnB3VT9wX0tmVmxrSXdiR2M/view?usp=sharing\n",
    "parking (alley, sidewalk, street)\n",
    "https://drive.google.com/file/d/0BwWQEnB3VT9wakJPSFpMeHRkOUk/view?usp=sharing"
   ]
  }
 ],
 "metadata": {
  "kernelspec": {
   "display_name": "Python 2",
   "language": "python",
   "name": "python2"
  },
  "language_info": {
   "codemirror_mode": {
    "name": "ipython",
    "version": 2
   },
   "file_extension": ".py",
   "mimetype": "text/x-python",
   "name": "python",
   "nbconvert_exporter": "python",
   "pygments_lexer": "ipython2",
   "version": "2.7.10"
  }
 },
 "nbformat": 4,
 "nbformat_minor": 0
}
